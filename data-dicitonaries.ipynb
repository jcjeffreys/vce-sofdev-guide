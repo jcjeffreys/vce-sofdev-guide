{
 "cells": [
  {
   "cell_type": "markdown",
   "metadata": {},
   "source": [
    "# Data dictionaries\n",
    "\n",
    "If you like, you can complete the following tasks out of order."
   ]
  },
  {
   "cell_type": "markdown",
   "metadata": {},
   "source": [
    "## Task 1\n",
    "\n",
    "Create a data dictionary that could have been used as a design tool for the following program. Use the following template.\n",
    "\n",
    "Your description should include whether the variable is an input or an output and the calculations or logic it is involved in.\n",
    "\n",
    "| Name | Type | Description |\n",
    "| --- | --- | --- |\n",
    "|  |  |  |"
   ]
  },
  {
   "cell_type": "code",
   "execution_count": 3,
   "metadata": {},
   "outputs": [
    {
     "name": "stdout",
     "output_type": "stream",
     "text": [
      "positive. positive. positive. positive. positive. positive. positive. positive. positive. positive. positive. positive. positive. positive. positive. positive. positive. positive. positive. positive. positive. positive. positive. positive. positive. positive. positive. positive. positive. positive. positive. positive. positive. positive. positive. positive. positive. positive. positive. positive. positive. positive. \n"
     ]
    }
   ],
   "source": [
    "const = 42 # A constant that cannot be changed by the user\n",
    "\n",
    "a = int(input(\"Input value a (integer): \"))\n",
    "b = str(input(\"Input value a (string): \"))\n",
    "c = float(input(\"Input value a (float): \"))\n",
    "d = int(input(\"Input value a (integer): \"))\n",
    "\n",
    "if a > 0:\n",
    "    e = True\n",
    "    if len(b) > 5:\n",
    "        f = \"POSITIVE!\"\n",
    "    else:\n",
    "        f = \"positive.\"\n",
    "elif a < 0:\n",
    "    e = False\n",
    "    if len(b) > 5:\n",
    "        f = \"NEGATIVE!\"\n",
    "    else:\n",
    "        f = \"negative.\"\n",
    "else:\n",
    "    e = 0\n",
    "    f = \"ZERO!\"\n",
    "\n",
    "if round(c) == d:\n",
    "    message = const*(f + \" \")\n",
    "    print(message)"
   ]
  },
  {
   "cell_type": "markdown",
   "metadata": {},
   "source": [
    "## Task 2\n",
    "\n",
    "Write a program that matches the design specified in the following data dictionary.\n",
    "\n",
    "| Name | Type | Description |\n",
    "| --- | --- | --- |\n",
    "| name | string | stores the users name |\n",
    "| len_name | integer | stores the length of the user's name (characters) |\n",
    "| name_is_long | boolean | true if the user's name is longer than 7 characters, otherwise false |\n",
    "| name_is_even | boolean | true if the user's name length is even |\n",
    "| message | string | final message the tells the user if their name length is short or long, and odd or even |"
   ]
  },
  {
   "cell_type": "code",
   "execution_count": null,
   "metadata": {},
   "outputs": [],
   "source": [
    "# Write your code for task 2 here.\n",
    "\n"
   ]
  },
  {
   "cell_type": "markdown",
   "metadata": {},
   "source": [
    "## Task 3\n",
    "\n",
    "Observe the code in _Task 1_. Notice how there are selections within selections. This is called a _nested conditional_. Use this structure when appropriate to write a program that meets the following requirements, completing the data dictionary before you do.\n",
    "\n",
    "### Requirements\n",
    "\n",
    "This program should allow the user to enter their address in parts. It should then output the address in a reasonable format so that the user could print it onto a sticker for attaching to letters and packages.\n",
    "\n",
    "Note that some of the address options are not always required, so your code should take this into account when printing.\n",
    "\n",
    "| Name | Type | Description |\n",
    "| --- | --- | --- |\n",
    "| name |  | user's full name |\n",
    "| company |  | user's company (if applicable) |\n",
    "| unit | integer | unit or apartment number (if applicable) |\n",
    "| number |  | house number |\n",
    "|  | string | street/road/(etc.) name |\n",
    "| state |  |  |\n",
    "| postcode |  |  |\n",
    "|  |  | country |\n"
   ]
  },
  {
   "cell_type": "code",
   "execution_count": null,
   "metadata": {},
   "outputs": [],
   "source": [
    "# Write your code for Task 3 here"
   ]
  }
 ],
 "metadata": {
  "interpreter": {
   "hash": "b0fa6594d8f4cbf19f97940f81e996739fb7646882a419484c72d19e05852a7e"
  },
  "kernelspec": {
   "display_name": "Python 3.9.10 64-bit",
   "language": "python",
   "name": "python3"
  },
  "language_info": {
   "codemirror_mode": {
    "name": "ipython",
    "version": 3
   },
   "file_extension": ".py",
   "mimetype": "text/x-python",
   "name": "python",
   "nbconvert_exporter": "python",
   "pygments_lexer": "ipython3",
   "version": "3.9.10"
  },
  "orig_nbformat": 4
 },
 "nbformat": 4,
 "nbformat_minor": 2
}
